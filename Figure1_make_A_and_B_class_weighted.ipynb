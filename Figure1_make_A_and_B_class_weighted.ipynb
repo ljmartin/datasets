{
 "cells": [
  {
   "cell_type": "code",
   "execution_count": 10,
   "metadata": {},
   "outputs": [],
   "source": [
    "##import the nice sciencey libraries\n",
    "import numpy as np\n",
    "from scipy import sparse\n",
    "import pandas as pd\n",
    "import matplotlib.pyplot as plt\n",
    "%matplotlib inline\n",
    "import pickle\n",
    "from sklearn.naive_bayes import BernoulliNB\n",
    "from sklearn.metrics import label_ranking_loss\n",
    "from sklearn.preprocessing import normalize\n",
    "\n",
    "\n",
    "#specialist libraries most people may not have\n",
    "import faiss\n",
    "from tqdm import tqdm_notebook\n"
   ]
  },
  {
   "cell_type": "code",
   "execution_count": 11,
   "metadata": {},
   "outputs": [],
   "source": [
    "x = sparse.load_npz('./x_norm_sparse.npz')\n",
    "y = sparse.load_npz('./y.npz')\n",
    "\n",
    "x = np.array(x.todense())\n",
    "y = np.array(y.todense())\n",
    "allSmiles = pd.read_csv('allSmiles.csv', header=None)\n",
    "targetNames = pd.read_csv('targetNames.csv', header=None)"
   ]
  },
  {
   "cell_type": "code",
   "execution_count": 28,
   "metadata": {},
   "outputs": [],
   "source": [
    "class VirtualScreeningBootstrapper():\n",
    "    def __init__(self, x, y, clf, weighting=False):\n",
    "        self.x = x\n",
    "        self.y = y\n",
    "        self.clf = clf\n",
    "        \n",
    "        self.positive_indices = None\n",
    "        self.negative_indices = None\n",
    "        self.faiss_index = None\n",
    "        self.targetIndex = None\n",
    "        self.fraction = None\n",
    "        self.weights = None\n",
    "        self.weighting=weighting\n",
    "        \n",
    "    def setWeighting(self, weighting):\n",
    "        self.weighting = weighting\n",
    "\n",
    "    def buildIndex(self, input_x):\n",
    "        faiss_index = faiss.IndexFlatL2(input_x.shape[1])   # build the index\n",
    "        faiss_index.add(input_x.astype('float32'))   # add vectors to the index    \n",
    "        \n",
    "        self.faiss_index = faiss_index\n",
    "        \n",
    "    def setTarget(self, target_index):\n",
    "        self.targetIndex = target_index\n",
    "        self.positive_indices = np.where(self.y[:,self.targetIndex]==1)[0]\n",
    "        self.negative_indices = np.where(self.y[:,self.targetIndex]==0)[0]\n",
    "        self.weights = np.ones(len(self.positive_indices))\n",
    "        \n",
    "        self.buildIndex(self.x[self.positive_indices])\n",
    "        \n",
    "    def maskNN(self):\n",
    "        normed_weights = normalize(self.weights.reshape(1,-1), norm='l1')[0] #equal weighting\n",
    "        \n",
    "        selection = np.random.choice(self.positive_indices, p = normed_weights) #take a random true positive ligand\n",
    "        _, knn = self.faiss_index.search(self.x[selection].reshape(1,-1).astype('float32'),\n",
    "                        int(self.fraction*len(self.positive_indices))) #find it's k-percent nearest neighbors\n",
    "    \n",
    "        if self.weighting: #reduce the weights of the k nearest neighbors\n",
    "            self.weights[knn] = self.weights[knn]*0.5\n",
    "        \n",
    "        mask = np.ones(len(self.x), dtype=bool) #create a mask\n",
    "        mask[self.positive_indices[knn]]=False #set only the neighbors to False\n",
    "        return mask\n",
    "    \n",
    "    def maskNegs(self, mask):\n",
    "        neg_indices = np.where(self.y[:,self.targetIndex] ==0)[0]\n",
    "        neg_selection = np.random.choice(neg_indices, int(self.fraction*len(neg_indices)))\n",
    "        mask[neg_selection]=False\n",
    "        return mask\n",
    "    \n",
    "    def evaluateFold(self, mask):\n",
    "        probs = self.clf.predict_proba(self.x[~mask])[:,1] #take probability of test ligands being positive\n",
    "        ranking_loss = label_ranking_loss(self.y[~mask][:,self.targetIndex].reshape(1,-1), probs.reshape(1,-1))\n",
    "        return ranking_loss\n",
    "        \n",
    "    def bootStrap(self, target_index, fraction, repeats):\n",
    "        self.setTarget(target_index)\n",
    "        self.fraction = fraction\n",
    "        \n",
    "        ranking_losses = list()\n",
    "        for _ in tqdm_notebook(range(repeats)):\n",
    "            mask = self.maskNN() #generate a mask for a random block of positives\n",
    "            mask = self.maskNegs(mask) #mask some negatives too\n",
    "            \n",
    "            self.clf.fit(self.x[mask], self.y[mask][:,self.targetIndex])\n",
    "            ranking_loss = self.evaluateFold(mask)\n",
    "            \n",
    "            ranking_losses.append(ranking_loss)\n",
    "        return ranking_losses"
   ]
  },
  {
   "cell_type": "code",
   "execution_count": null,
   "metadata": {},
   "outputs": [],
   "source": []
  },
  {
   "cell_type": "code",
   "execution_count": 29,
   "metadata": {},
   "outputs": [],
   "source": [
    "#initialize the bootstrap sampler with the x array (featurized molecules)\n",
    "#and y array (multi-hot encoded labels)\n",
    "\n",
    "bootstrapper = VirtualScreeningBootstrapper(x, y, BernoulliNB())"
   ]
  },
  {
   "cell_type": "code",
   "execution_count": 48,
   "metadata": {},
   "outputs": [
    {
     "data": {
      "application/vnd.jupyter.widget-view+json": {
       "model_id": "13cb9e0520714a2b93837873539386df",
       "version_major": 2,
       "version_minor": 0
      },
      "text/plain": [
       "HBox(children=(IntProgress(value=0, max=20), HTML(value='')))"
      ]
     },
     "metadata": {},
     "output_type": "display_data"
    },
    {
     "data": {
      "application/vnd.jupyter.widget-view+json": {
       "model_id": "99285e307a8b48dc837bd711f8162253",
       "version_major": 2,
       "version_minor": 0
      },
      "text/plain": [
       "HBox(children=(IntProgress(value=0, max=150), HTML(value='')))"
      ]
     },
     "metadata": {},
     "output_type": "display_data"
    },
    {
     "data": {
      "application/vnd.jupyter.widget-view+json": {
       "model_id": "ff406ccfc6804f1890eaa0b6dea00881",
       "version_major": 2,
       "version_minor": 0
      },
      "text/plain": [
       "HBox(children=(IntProgress(value=0, max=150), HTML(value='')))"
      ]
     },
     "metadata": {},
     "output_type": "display_data"
    },
    {
     "data": {
      "application/vnd.jupyter.widget-view+json": {
       "model_id": "2a6ced1d61c043649d10f4f82db2f5c7",
       "version_major": 2,
       "version_minor": 0
      },
      "text/plain": [
       "HBox(children=(IntProgress(value=0, max=150), HTML(value='')))"
      ]
     },
     "metadata": {},
     "output_type": "display_data"
    },
    {
     "ename": "KeyboardInterrupt",
     "evalue": "",
     "output_type": "error",
     "traceback": [
      "\u001b[0;31m---------------------------------------------------------------------------\u001b[0m",
      "\u001b[0;31mKeyboardInterrupt\u001b[0m                         Traceback (most recent call last)",
      "\u001b[0;32m<ipython-input-48-bbda61880b0b>\u001b[0m in \u001b[0;36m<module>\u001b[0;34m\u001b[0m\n\u001b[1;32m     14\u001b[0m     \u001b[0;31m#repeat \"repeats\" times to get good statistics\u001b[0m\u001b[0;34m\u001b[0m\u001b[0;34m\u001b[0m\u001b[0;34m\u001b[0m\u001b[0m\n\u001b[1;32m     15\u001b[0m     \u001b[0mbootstrapper\u001b[0m\u001b[0;34m.\u001b[0m\u001b[0msetWeighting\u001b[0m\u001b[0;34m(\u001b[0m\u001b[0;32mFalse\u001b[0m\u001b[0;34m)\u001b[0m\u001b[0;34m\u001b[0m\u001b[0;34m\u001b[0m\u001b[0m\n\u001b[0;32m---> 16\u001b[0;31m     \u001b[0mranking_losses\u001b[0m \u001b[0;34m=\u001b[0m \u001b[0mbootstrapper\u001b[0m\u001b[0;34m.\u001b[0m\u001b[0mbootStrap\u001b[0m\u001b[0;34m(\u001b[0m\u001b[0mligID\u001b[0m\u001b[0;34m,\u001b[0m \u001b[0mfraction\u001b[0m\u001b[0;34m,\u001b[0m \u001b[0mrepeats\u001b[0m\u001b[0;34m)\u001b[0m\u001b[0;34m\u001b[0m\u001b[0;34m\u001b[0m\u001b[0m\n\u001b[0m\u001b[1;32m     17\u001b[0m     \u001b[0mno_weights\u001b[0m\u001b[0;34m.\u001b[0m\u001b[0mappend\u001b[0m\u001b[0;34m(\u001b[0m\u001b[0mranking_losses\u001b[0m\u001b[0;34m)\u001b[0m\u001b[0;34m\u001b[0m\u001b[0;34m\u001b[0m\u001b[0m\n\u001b[1;32m     18\u001b[0m \u001b[0;34m\u001b[0m\u001b[0m\n",
      "\u001b[0;32m<ipython-input-28-0639fd360451>\u001b[0m in \u001b[0;36mbootStrap\u001b[0;34m(self, target_index, fraction, repeats)\u001b[0m\n\u001b[1;32m     64\u001b[0m             \u001b[0mmask\u001b[0m \u001b[0;34m=\u001b[0m \u001b[0mself\u001b[0m\u001b[0;34m.\u001b[0m\u001b[0mmaskNegs\u001b[0m\u001b[0;34m(\u001b[0m\u001b[0mmask\u001b[0m\u001b[0;34m)\u001b[0m \u001b[0;31m#mask some negatives too\u001b[0m\u001b[0;34m\u001b[0m\u001b[0;34m\u001b[0m\u001b[0m\n\u001b[1;32m     65\u001b[0m \u001b[0;34m\u001b[0m\u001b[0m\n\u001b[0;32m---> 66\u001b[0;31m             \u001b[0mself\u001b[0m\u001b[0;34m.\u001b[0m\u001b[0mclf\u001b[0m\u001b[0;34m.\u001b[0m\u001b[0mfit\u001b[0m\u001b[0;34m(\u001b[0m\u001b[0mself\u001b[0m\u001b[0;34m.\u001b[0m\u001b[0mx\u001b[0m\u001b[0;34m[\u001b[0m\u001b[0mmask\u001b[0m\u001b[0;34m]\u001b[0m\u001b[0;34m,\u001b[0m \u001b[0mself\u001b[0m\u001b[0;34m.\u001b[0m\u001b[0my\u001b[0m\u001b[0;34m[\u001b[0m\u001b[0mmask\u001b[0m\u001b[0;34m]\u001b[0m\u001b[0;34m[\u001b[0m\u001b[0;34m:\u001b[0m\u001b[0;34m,\u001b[0m\u001b[0mself\u001b[0m\u001b[0;34m.\u001b[0m\u001b[0mtargetIndex\u001b[0m\u001b[0;34m]\u001b[0m\u001b[0;34m)\u001b[0m\u001b[0;34m\u001b[0m\u001b[0;34m\u001b[0m\u001b[0m\n\u001b[0m\u001b[1;32m     67\u001b[0m             \u001b[0mranking_loss\u001b[0m \u001b[0;34m=\u001b[0m \u001b[0mself\u001b[0m\u001b[0;34m.\u001b[0m\u001b[0mevaluateFold\u001b[0m\u001b[0;34m(\u001b[0m\u001b[0mmask\u001b[0m\u001b[0;34m)\u001b[0m\u001b[0;34m\u001b[0m\u001b[0;34m\u001b[0m\u001b[0m\n\u001b[1;32m     68\u001b[0m \u001b[0;34m\u001b[0m\u001b[0m\n",
      "\u001b[0;31mKeyboardInterrupt\u001b[0m: "
     ]
    }
   ],
   "source": [
    "##No weighting:\n",
    "bootstrapper.setWeighting(False)\n",
    "repeats = 150\n",
    "fraction = 0.1\n",
    "no_weights = list()\n",
    "with_weights = list()\n",
    "\n",
    "def runbootstrap():\n",
    "    \n",
    "\n",
    "for _ in tqdm_notebook(range(20)):\n",
    "    #take a random ligand\n",
    "    ligID = np.random.choice(np.arange(y.shape[1]))\n",
    "\n",
    "    #determine the ranking loss\n",
    "    #training on the \"ligID\" target, using \"fraction\" holdout data\n",
    "    #repeat \"repeats\" times to get good statistics\n",
    "    bootstrapper.setWeighting(False)\n",
    "    ranking_losses = bootstrapper.bootStrap(ligID, fraction, repeats)\n",
    "    no_weights.append(ranking_losses)\n",
    "\n",
    "    bootstrapper.setWeighting(True)\n",
    "    ranking_losses = bootstrapper.bootStrap(ligID, fraction, repeats)\n",
    "    with_weights.append(ranking_losses)\n",
    "    "
   ]
  },
  {
   "cell_type": "code",
   "execution_count": null,
   "metadata": {},
   "outputs": [],
   "source": []
  },
  {
   "cell_type": "code",
   "execution_count": 51,
   "metadata": {},
   "outputs": [
    {
     "ename": "AttributeError",
     "evalue": "'list' object has no attribute 'toarray'",
     "output_type": "error",
     "traceback": [
      "\u001b[0;31m---------------------------------------------------------------------------\u001b[0m",
      "\u001b[0;31mAttributeError\u001b[0m                            Traceback (most recent call last)",
      "\u001b[0;32m<ipython-input-51-5e34e94d3e44>\u001b[0m in \u001b[0;36m<module>\u001b[0;34m\u001b[0m\n\u001b[1;32m     16\u001b[0m \u001b[0mloss_para\u001b[0m \u001b[0;34m=\u001b[0m \u001b[0mParallel\u001b[0m\u001b[0;34m(\u001b[0m\u001b[0mn_jobs\u001b[0m\u001b[0;34m=\u001b[0m\u001b[0;36m4\u001b[0m\u001b[0;34m)\u001b[0m\u001b[0;34m(\u001b[0m\u001b[0mdelayed\u001b[0m\u001b[0;34m(\u001b[0m\u001b[0mrunbootstrap\u001b[0m\u001b[0;34m)\u001b[0m\u001b[0;34m(\u001b[0m\u001b[0mi\u001b[0m\u001b[0;34m)\u001b[0m \u001b[0;32mfor\u001b[0m \u001b[0mi\u001b[0m \u001b[0;32min\u001b[0m \u001b[0mnp\u001b[0m\u001b[0;34m.\u001b[0m\u001b[0marray_split\u001b[0m\u001b[0;34m(\u001b[0m\u001b[0mnp\u001b[0m\u001b[0;34m.\u001b[0m\u001b[0marange\u001b[0m\u001b[0;34m(\u001b[0m\u001b[0;36m20\u001b[0m\u001b[0;34m)\u001b[0m\u001b[0;34m,\u001b[0m \u001b[0;36m4\u001b[0m\u001b[0;34m)\u001b[0m\u001b[0;34m)\u001b[0m\u001b[0;34m\u001b[0m\u001b[0;34m\u001b[0m\u001b[0m\n\u001b[1;32m     17\u001b[0m \u001b[0;34m\u001b[0m\u001b[0m\n\u001b[0;32m---> 18\u001b[0;31m \u001b[0mprobas\u001b[0m \u001b[0;34m=\u001b[0m \u001b[0mnp\u001b[0m\u001b[0;34m.\u001b[0m\u001b[0mconcatenate\u001b[0m\u001b[0;34m(\u001b[0m\u001b[0;34m[\u001b[0m\u001b[0mi\u001b[0m\u001b[0;34m.\u001b[0m\u001b[0mtoarray\u001b[0m\u001b[0;34m(\u001b[0m\u001b[0;34m)\u001b[0m \u001b[0;32mfor\u001b[0m \u001b[0mi\u001b[0m \u001b[0;32min\u001b[0m \u001b[0mloss_para\u001b[0m\u001b[0;34m]\u001b[0m\u001b[0;34m)\u001b[0m\u001b[0;34m\u001b[0m\u001b[0;34m\u001b[0m\u001b[0m\n\u001b[0m",
      "\u001b[0;32m<ipython-input-51-5e34e94d3e44>\u001b[0m in \u001b[0;36m<listcomp>\u001b[0;34m(.0)\u001b[0m\n\u001b[1;32m     16\u001b[0m \u001b[0mloss_para\u001b[0m \u001b[0;34m=\u001b[0m \u001b[0mParallel\u001b[0m\u001b[0;34m(\u001b[0m\u001b[0mn_jobs\u001b[0m\u001b[0;34m=\u001b[0m\u001b[0;36m4\u001b[0m\u001b[0;34m)\u001b[0m\u001b[0;34m(\u001b[0m\u001b[0mdelayed\u001b[0m\u001b[0;34m(\u001b[0m\u001b[0mrunbootstrap\u001b[0m\u001b[0;34m)\u001b[0m\u001b[0;34m(\u001b[0m\u001b[0mi\u001b[0m\u001b[0;34m)\u001b[0m \u001b[0;32mfor\u001b[0m \u001b[0mi\u001b[0m \u001b[0;32min\u001b[0m \u001b[0mnp\u001b[0m\u001b[0;34m.\u001b[0m\u001b[0marray_split\u001b[0m\u001b[0;34m(\u001b[0m\u001b[0mnp\u001b[0m\u001b[0;34m.\u001b[0m\u001b[0marange\u001b[0m\u001b[0;34m(\u001b[0m\u001b[0;36m20\u001b[0m\u001b[0;34m)\u001b[0m\u001b[0;34m,\u001b[0m \u001b[0;36m4\u001b[0m\u001b[0;34m)\u001b[0m\u001b[0;34m)\u001b[0m\u001b[0;34m\u001b[0m\u001b[0;34m\u001b[0m\u001b[0m\n\u001b[1;32m     17\u001b[0m \u001b[0;34m\u001b[0m\u001b[0m\n\u001b[0;32m---> 18\u001b[0;31m \u001b[0mprobas\u001b[0m \u001b[0;34m=\u001b[0m \u001b[0mnp\u001b[0m\u001b[0;34m.\u001b[0m\u001b[0mconcatenate\u001b[0m\u001b[0;34m(\u001b[0m\u001b[0;34m[\u001b[0m\u001b[0mi\u001b[0m\u001b[0;34m.\u001b[0m\u001b[0mtoarray\u001b[0m\u001b[0;34m(\u001b[0m\u001b[0;34m)\u001b[0m \u001b[0;32mfor\u001b[0m \u001b[0mi\u001b[0m \u001b[0;32min\u001b[0m \u001b[0mloss_para\u001b[0m\u001b[0;34m]\u001b[0m\u001b[0;34m)\u001b[0m\u001b[0;34m\u001b[0m\u001b[0;34m\u001b[0m\u001b[0m\n\u001b[0m",
      "\u001b[0;31mAttributeError\u001b[0m: 'list' object has no attribute 'toarray'"
     ]
    }
   ],
   "source": [
    "from joblib import Parallel, delayed\n",
    "def runbootstrap(inpt):\n",
    "    bootstrapper = VirtualScreeningBootstrapper(x, y, BernoulliNB())\n",
    "    #take a random ligand\n",
    "    ligID = np.random.choice(np.arange(y.shape[1]))\n",
    "    fraction= 0.1\n",
    "    repeats = 10\n",
    "\n",
    "    bootstrapper.setWeighting(False)\n",
    "    ranking_losses1 = bootstrapper.bootStrap(ligID, fraction, repeats)\n",
    "\n",
    "    bootstrapper.setWeighting(True)\n",
    "    ranking_losses2 = bootstrapper.bootStrap(ligID, fraction, repeats)\n",
    "    return([ranking_losses1, ranking_losses2])\n",
    "    \n",
    "loss_para = Parallel(n_jobs=4)(delayed(runbootstrap)(i) for i in np.array_split(np.arange(20), 4))\n",
    "\n",
    "probas = np.concatenate([i.toarray() for i in loss_para])"
   ]
  },
  {
   "cell_type": "code",
   "execution_count": 44,
   "metadata": {},
   "outputs": [],
   "source": [
    "#borrowed, see: https://stackoverflow.com/questions/15033511/compute-a-confidence-interval-from-sample-data\n",
    "import scipy\n",
    "def mean_confidence_interval(data, confidence=0.95):\n",
    "    a = 1.0 * np.array(data)\n",
    "    n = len(a)\n",
    "    m, se = np.mean(a), scipy.stats.sem(a)\n",
    "    h = se * scipy.stats.t.ppf((1 + confidence) / 2., n-1)\n",
    "    return m, h\n"
   ]
  },
  {
   "cell_type": "code",
   "execution_count": 45,
   "metadata": {},
   "outputs": [
    {
     "name": "stderr",
     "output_type": "stream",
     "text": [
      "/Users/lmar3213/miniconda3/lib/python3.7/site-packages/numpy/core/fromnumeric.py:3118: RuntimeWarning: Mean of empty slice.\n",
      "  out=out, **kwargs)\n",
      "/Users/lmar3213/miniconda3/lib/python3.7/site-packages/numpy/core/_methods.py:85: RuntimeWarning: invalid value encountered in double_scalars\n",
      "  ret = ret.dtype.type(ret / rcount)\n",
      "/Users/lmar3213/miniconda3/lib/python3.7/site-packages/numpy/core/_methods.py:140: RuntimeWarning: Degrees of freedom <= 0 for slice\n",
      "  keepdims=keepdims)\n",
      "/Users/lmar3213/miniconda3/lib/python3.7/site-packages/numpy/core/_methods.py:110: RuntimeWarning: invalid value encountered in true_divide\n",
      "  arrmean, rcount, out=arrmean, casting='unsafe', subok=False)\n",
      "/Users/lmar3213/miniconda3/lib/python3.7/site-packages/numpy/core/_methods.py:132: RuntimeWarning: invalid value encountered in double_scalars\n",
      "  ret = ret.dtype.type(ret / rcount)\n"
     ]
    }
   ],
   "source": [
    "confidence_intervals2 = list()\n",
    "means = list()\n",
    "for ran in range(repeats):\n",
    "    rl = ranking_losses2[:ran]\n",
    "    mean, conf_interval = mean_confidence_interval(rl)\n",
    "    means.append(mean)\n",
    "    confidence_intervals2.append(conf_interval)\n",
    "    \n",
    "confidence_intervals3 = list()\n",
    "means = list()\n",
    "for ran in range(repeats):\n",
    "    rl = ranking_losses3[:ran]\n",
    "    mean, conf_interval = mean_confidence_interval(rl)\n",
    "    means.append(mean)\n",
    "    confidence_intervals3.append(conf_interval)"
   ]
  },
  {
   "cell_type": "code",
   "execution_count": 46,
   "metadata": {},
   "outputs": [
    {
     "data": {
      "text/plain": [
       "Text(0, 0.5, 'Confidence interval')"
      ]
     },
     "execution_count": 46,
     "metadata": {},
     "output_type": "execute_result"
    },
    {
     "data": {
      "text/plain": [
       "<Figure size 432x288 with 0 Axes>"
      ]
     },
     "metadata": {},
     "output_type": "display_data"
    },
    {
     "data": {
      "image/png": "[encoded data removed]",
      "text/plain": [
       "<Figure size 720x360 with 1 Axes>"
      ]
     },
     "metadata": {
      "needs_background": "light"
     },
     "output_type": "display_data"
    }
   ],
   "source": [
    "plt.figure()\n",
    "plt.figure(figsize=(10,5))\n",
    "plt.plot(confidence_intervals2)\n",
    "plt.plot(confidence_intervals3)\n",
    "plt.ylabel('Confidence interval')\n"
   ]
  },
  {
   "cell_type": "code",
   "execution_count": 47,
   "metadata": {},
   "outputs": [
    {
     "data": {
      "text/plain": [
       "[<matplotlib.lines.Line2D at 0x12ff01e10>]"
      ]
     },
     "execution_count": 47,
     "metadata": {},
     "output_type": "execute_result"
    },
    {
     "data": {
      "image/png": "[encoded data removed]",
      "text/plain": [
       "<Figure size 432x288 with 1 Axes>"
      ]
     },
     "metadata": {
      "needs_background": "light"
     },
     "output_type": "display_data"
    }
   ],
   "source": [
    "xrange = range(repeats)\n",
    "plt.plot(xrange, [np.mean(ranking_losses2[:repeats])-np.mean(ranking_losses2[:i]) for i in xrange])\n",
    "plt.plot(xrange, [np.mean(ranking_losses3[:repeats])-np.mean(ranking_losses3[:i]) for i in xrange])"
   ]
  },
  {
   "cell_type": "code",
   "execution_count": null,
   "metadata": {},
   "outputs": [],
   "source": []
  }
 ],
 "metadata": {
  "kernelspec": {
   "display_name": "Python 3",
   "language": "python",
   "name": "python3"
  },
  "language_info": {
   "codemirror_mode": {
    "name": "ipython",
    "version": 3
   },
   "file_extension": ".py",
   "mimetype": "text/x-python",
   "name": "python",
   "nbconvert_exporter": "python",
   "pygments_lexer": "ipython3",
   "version": "3.7.3"
  }
 },
 "nbformat": 4,
 "nbformat_minor": 2
}
